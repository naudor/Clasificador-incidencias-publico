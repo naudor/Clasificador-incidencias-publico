{
 "cells": [
  {
   "cell_type": "code",
   "execution_count": 13,
   "metadata": {},
   "outputs": [
    {
     "name": "stdout",
     "output_type": "stream",
     "text": [
      "Caller id: Marta Frias  Marcos\n",
      "Descripción: Bon dia,  Tenemos una documentación duplicada de lims del producto Gabapentina Comp. 800mg (8501845000) y las dos están activas.  La documentación a anular seria la del código 701696668, ya que la otra con código 701783628 es la que se ha estado utilizando durante el análisis.  Gracias,  Marta Frias\n",
      "\"['Marta Frias  Marcos\\r\\nBon dia,  Tenemos una documentación duplicada de lims del producto Gabapentina Comp. 800mg (8501845000) y las dos están activas.  La documentación a anular seria la del código 701696668, ya que la otra con código 701783628 es la que se ha estado utilizando durante el análisis.  Gracias,  Marta Frias']\"\n",
      "  - Predicted as: 'SNOW-LABORATORIO'\n",
      "\n"
     ]
    }
   ],
   "source": [
    "from sklearn.feature_extraction.text import TfidfVectorizer\n",
    "from sklearn.feature_extraction.text import CountVectorizer\n",
    "from sklearn.feature_extraction.text import TfidfTransformer\n",
    "from nltk import sent_tokenize\n",
    "from spacy.lang.es.stop_words import STOP_WORDS as es_stop\n",
    "import string\n",
    "import pickle\n",
    "\n",
    "# Importamos nuestro modelo\n",
    "with open('clasificacion_CAUS_modelo.pickle', \"rb\") as file:\n",
    "    model = pickle.load(file)\n",
    "\n",
    "with open('clasificacion_CAUS_vectorizador.pickle', \"rb\") as file:\n",
    "    tfidf = pickle.load(file)\n",
    "    \n",
    "with open('clasificacion_CAUS_categorias.pickle', \"rb\") as file:\n",
    "    id_to_category = dict(pickle.load(file))\n",
    "\n",
    "# Pedimos al usuario que introduzca un area y calcular\n",
    "# su precio usando el modelo importado\n",
    "\n",
    "caller_id = str(input(\"Caller id: \"))\n",
    "descripcion = str (input(\"Descripción: \"))\n",
    "texto_final = [caller_id + \"\\r\\n\" + descripcion]\n",
    "\n",
    "feature = tfidf.transform(texto_final)\n",
    "\n",
    "categoria_predecida = model.predict(feature)\n",
    "\n",
    "print('\"{}\"'.format(texto_final))\n",
    "print(\"  - Predicted as: '{}'\".format(id_to_category[categoria_predecida.item(0)]))\n",
    "print(\"\")\n",
    "\n",
    "#Exemples:\n",
    "# INC0108405 23/10/2020 - OK\n",
    "# INC0108355 22/10/2020 - OK\n",
    "# INC0108454 23/10/2020 - OK/KO\n",
    "# INC0108465 23/10/2020 - KO\n",
    "# INC0108443 23/10/2020 - OK\n",
    "# INC0108431 23/10/2020 - OK\n",
    "# INC0108425 23/10/2020 - OK\n",
    "# INC0108414 23/10/2020 - OK\n",
    "# INC0108357 23/10/2020 - KO - muy dificil\n",
    "# INC0108305 22/10/2020 - KO - pocos registros"
   ]
  },
  {
   "cell_type": "code",
   "execution_count": null,
   "metadata": {},
   "outputs": [],
   "source": []
  },
  {
   "cell_type": "code",
   "execution_count": null,
   "metadata": {},
   "outputs": [],
   "source": []
  }
 ],
 "metadata": {
  "kernelspec": {
   "display_name": "Python 3",
   "language": "python",
   "name": "python3"
  },
  "language_info": {
   "codemirror_mode": {
    "name": "ipython",
    "version": 3
   },
   "file_extension": ".py",
   "mimetype": "text/x-python",
   "name": "python",
   "nbconvert_exporter": "python",
   "pygments_lexer": "ipython3",
   "version": "3.8.3"
  }
 },
 "nbformat": 4,
 "nbformat_minor": 4
}
